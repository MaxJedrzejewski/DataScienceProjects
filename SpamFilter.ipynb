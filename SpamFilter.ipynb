{
 "cells": [
  {
   "cell_type": "code",
   "execution_count": 53,
   "id": "a6855622",
   "metadata": {},
   "outputs": [],
   "source": [
    "import pandas as pd\n",
    "import numpy as np\n",
    "from collections import Counter\n",
    "from sklearn.feature_extraction.text import TfidfVectorizer\n",
    "from sklearn.linear_model import LogisticRegression\n",
    "from sklearn.model_selection import train_test_split\n",
    "from sklearn.metrics import *\n",
    "import matplotlib.pyplot as plt\n",
    "import seaborn as sn"
   ]
  },
  {
   "cell_type": "code",
   "execution_count": 45,
   "id": "528a17a8",
   "metadata": {},
   "outputs": [
    {
     "data": {
      "text/plain": [
       "Category    object\n",
       "Text        object\n",
       "dtype: object"
      ]
     },
     "execution_count": 45,
     "metadata": {},
     "output_type": "execute_result"
    }
   ],
   "source": [
    "PATH = r'C:\\Users\\maxje\\OneDrive\\Pulpit\\python\\zad nlp\\SMSSpamCollection.txt'\n",
    "\n",
    "columnes = ['Category', 'Text']\n",
    "df = pd.read_csv(PATH, sep='\\t', names=columnes, header=None)\n",
    "df.dtypes"
   ]
  },
  {
   "cell_type": "markdown",
   "id": "525c54ea",
   "metadata": {},
   "source": [
    "# Data cleaning"
   ]
  },
  {
   "cell_type": "code",
   "execution_count": 46,
   "id": "c2a17b2d",
   "metadata": {},
   "outputs": [
    {
     "data": {
      "text/html": [
       "<div>\n",
       "<style scoped>\n",
       "    .dataframe tbody tr th:only-of-type {\n",
       "        vertical-align: middle;\n",
       "    }\n",
       "\n",
       "    .dataframe tbody tr th {\n",
       "        vertical-align: top;\n",
       "    }\n",
       "\n",
       "    .dataframe thead th {\n",
       "        text-align: right;\n",
       "    }\n",
       "</style>\n",
       "<table border=\"1\" class=\"dataframe\">\n",
       "  <thead>\n",
       "    <tr style=\"text-align: right;\">\n",
       "      <th></th>\n",
       "      <th>Category</th>\n",
       "      <th>Text</th>\n",
       "    </tr>\n",
       "  </thead>\n",
       "  <tbody>\n",
       "    <tr>\n",
       "      <th>0</th>\n",
       "      <td>0</td>\n",
       "      <td>go until jurong point crazy available only in ...</td>\n",
       "    </tr>\n",
       "    <tr>\n",
       "      <th>1</th>\n",
       "      <td>0</td>\n",
       "      <td>ok lar joking wif u oni</td>\n",
       "    </tr>\n",
       "    <tr>\n",
       "      <th>2</th>\n",
       "      <td>1</td>\n",
       "      <td>free entry in a wkly comp to win fa cup final ...</td>\n",
       "    </tr>\n",
       "    <tr>\n",
       "      <th>3</th>\n",
       "      <td>0</td>\n",
       "      <td>u dun say so early hor u c already then say</td>\n",
       "    </tr>\n",
       "    <tr>\n",
       "      <th>4</th>\n",
       "      <td>0</td>\n",
       "      <td>nah i think he goes to usf he lives around her...</td>\n",
       "    </tr>\n",
       "    <tr>\n",
       "      <th>...</th>\n",
       "      <td>...</td>\n",
       "      <td>...</td>\n",
       "    </tr>\n",
       "    <tr>\n",
       "      <th>5567</th>\n",
       "      <td>1</td>\n",
       "      <td>this is the time we have tried contact u u hav...</td>\n",
       "    </tr>\n",
       "    <tr>\n",
       "      <th>5568</th>\n",
       "      <td>0</td>\n",
       "      <td>will ü b going to esplanade fr home</td>\n",
       "    </tr>\n",
       "    <tr>\n",
       "      <th>5569</th>\n",
       "      <td>0</td>\n",
       "      <td>pity was in mood for that soany other suggestions</td>\n",
       "    </tr>\n",
       "    <tr>\n",
       "      <th>5570</th>\n",
       "      <td>0</td>\n",
       "      <td>the guy did some bitching but i acted like be ...</td>\n",
       "    </tr>\n",
       "    <tr>\n",
       "      <th>5571</th>\n",
       "      <td>0</td>\n",
       "      <td>rofl its true to its name</td>\n",
       "    </tr>\n",
       "  </tbody>\n",
       "</table>\n",
       "<p>5572 rows × 2 columns</p>\n",
       "</div>"
      ],
      "text/plain": [
       "      Category                                               Text\n",
       "0            0  go until jurong point crazy available only in ...\n",
       "1            0                            ok lar joking wif u oni\n",
       "2            1  free entry in a wkly comp to win fa cup final ...\n",
       "3            0        u dun say so early hor u c already then say\n",
       "4            0  nah i think he goes to usf he lives around her...\n",
       "...        ...                                                ...\n",
       "5567         1  this is the time we have tried contact u u hav...\n",
       "5568         0                will ü b going to esplanade fr home\n",
       "5569         0  pity was in mood for that soany other suggestions\n",
       "5570         0  the guy did some bitching but i acted like be ...\n",
       "5571         0                          rofl its true to its name\n",
       "\n",
       "[5572 rows x 2 columns]"
      ]
     },
     "execution_count": 46,
     "metadata": {},
     "output_type": "execute_result"
    }
   ],
   "source": [
    "def clean_text(x):\n",
    "    x = x.lower()\n",
    "    x = x.replace('.','')\n",
    "    x = x.replace(',','')\n",
    "    x = x.replace(':','')\n",
    "    x = x.replace(';','')\n",
    "    x = x.replace('!','')\n",
    "    x = x.replace('?','')\n",
    "    x = x.replace('<br>','')\n",
    "    x = x.replace('<br />','')\n",
    "    x = ' '.join([word for word in x.split() if word.isalpha()])\n",
    "    return x\n",
    "\n",
    "def binary(y):\n",
    "    y = str(y)\n",
    "    if y == \"spam\":\n",
    "        return 1\n",
    "    else:\n",
    "        return 0\n",
    "    \n",
    "df['Text'] = df['Text'].apply(clean_text)\n",
    "df['Category'] = df['Category'].apply(binary)\n",
    "\n",
    "df"
   ]
  },
  {
   "cell_type": "markdown",
   "id": "db79c444",
   "metadata": {},
   "source": [
    "# Model learning"
   ]
  },
  {
   "cell_type": "code",
   "execution_count": 47,
   "id": "7847de8e",
   "metadata": {},
   "outputs": [],
   "source": [
    "tfidf = TfidfVectorizer(min_df=10)\n",
    "inputs= tfidf.fit_transform(df['Text'])\n",
    "target = df['Category']\n",
    "\n",
    "train_input,test_input,train_target,test_target = train_test_split(inputs,target, test_size=0.25)"
   ]
  },
  {
   "cell_type": "code",
   "execution_count": 48,
   "id": "9b935c8d",
   "metadata": {},
   "outputs": [
    {
     "data": {
      "text/plain": [
       "LogisticRegression()"
      ]
     },
     "execution_count": 48,
     "metadata": {},
     "output_type": "execute_result"
    }
   ],
   "source": [
    "model = LogisticRegression()\n",
    "model.fit(train_input,train_target)"
   ]
  },
  {
   "cell_type": "markdown",
   "id": "5ba4adf9",
   "metadata": {},
   "source": [
    "# Results"
   ]
  },
  {
   "cell_type": "code",
   "execution_count": 49,
   "id": "65bcdb48",
   "metadata": {},
   "outputs": [
    {
     "name": "stdout",
     "output_type": "stream",
     "text": [
      "Is spam precision: 0.9933333333333333\n",
      "Is spam recall: 0.8010752688172043\n",
      "Not spam precision: 0.9702333065164923\n",
      "Not spam recall: 0.9991714995857498\n",
      "Classification accuracy: 0.9727207465900933\n"
     ]
    }
   ],
   "source": [
    "predictions = model.predict(test_input)\n",
    "\n",
    "print(\"Is spam precision:\",precision_score(test_target,predictions))\n",
    "print(\"Is spam recall:\",recall_score(test_target,predictions))\n",
    "print(\"Not spam precision:\",precision_score(test_target,predictions,pos_label = 0))\n",
    "print(\"Not spam recall:\",recall_score(test_target,predictions,pos_label = 0))\n",
    "print(\"Classification accuracy:\",accuracy_score(test_target,predictions))"
   ]
  },
  {
   "cell_type": "markdown",
   "id": "14760663",
   "metadata": {},
   "source": [
    "**10 most positive sentiment words**"
   ]
  },
  {
   "cell_type": "code",
   "execution_count": 51,
   "id": "dfe64a8b",
   "metadata": {},
   "outputs": [
    {
     "name": "stdout",
     "output_type": "stream",
     "text": [
      "[('me', -2.246574617629148), ('my', -1.9688982986576993), ('but', -1.5062502125172539), ('come', -1.4783813411534878), ('later', -1.447887375296455), ('ok', -1.3432156846093644), ('that', -1.244549613259049), ('do', -1.1706469937576673), ('am', -1.1181200614176106), ('sorry', -1.1057575343467512)]\n"
     ]
    }
   ],
   "source": [
    "weights = list(zip(tfidf.get_feature_names(),model.coef_[0]))\n",
    "\n",
    "weights.sort(key = lambda x:x[1])\n",
    "print(weights[:10])"
   ]
  },
  {
   "cell_type": "markdown",
   "id": "e629f164",
   "metadata": {},
   "source": [
    "**10 most negative sentiment words**"
   ]
  },
  {
   "cell_type": "code",
   "execution_count": 52,
   "id": "ae0c4c00",
   "metadata": {},
   "outputs": [
    {
     "name": "stdout",
     "output_type": "stream",
     "text": [
      "[('txt', 4.884225139101268), ('call', 4.161147239559108), ('text', 3.5544625324746546), ('stop', 3.1960449961816697), ('free', 3.1215738181762855), ('to', 3.0488898045629114), ('reply', 3.0191690475771047), ('claim', 2.947874350925159), ('mobile', 2.799268192017337), ('from', 2.635901672370731)]\n"
     ]
    }
   ],
   "source": [
    "weights.sort(key = lambda x:x[1],reverse = True)\n",
    "print(weights[:10])"
   ]
  },
  {
   "cell_type": "code",
   "execution_count": null,
   "id": "0f0fcef4",
   "metadata": {},
   "outputs": [],
   "source": []
  },
  {
   "cell_type": "code",
   "execution_count": null,
   "id": "288b8d15",
   "metadata": {},
   "outputs": [],
   "source": []
  }
 ],
 "metadata": {
  "kernelspec": {
   "display_name": "Python 3 (ipykernel)",
   "language": "python",
   "name": "python3"
  },
  "language_info": {
   "codemirror_mode": {
    "name": "ipython",
    "version": 3
   },
   "file_extension": ".py",
   "mimetype": "text/x-python",
   "name": "python",
   "nbconvert_exporter": "python",
   "pygments_lexer": "ipython3",
   "version": "3.9.7"
  }
 },
 "nbformat": 4,
 "nbformat_minor": 5
}
